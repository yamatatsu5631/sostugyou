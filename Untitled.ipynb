{
 "cells": [
  {
   "cell_type": "code",
   "execution_count": null,
   "id": "35e7bb16",
   "metadata": {},
   "outputs": [],
   "source": [
    "import tkinter.filedialog\n",
    "\n",
    "filepath = tkinter.filedialog.askopenfilename(initialdir='input_style/')"
   ]
  },
  {
   "cell_type": "code",
   "execution_count": null,
   "id": "315c1391",
   "metadata": {},
   "outputs": [],
   "source": [
    "filepath"
   ]
  },
  {
   "cell_type": "code",
   "execution_count": null,
   "id": "90188d5f",
   "metadata": {},
   "outputs": [],
   "source": [
    "import os\n",
    "dirname, basename = os.path.split(filepath)"
   ]
  },
  {
   "cell_type": "code",
   "execution_count": null,
   "id": "17eccf01",
   "metadata": {},
   "outputs": [],
   "source": [
    "a = os.path.join(os.path.basename(dirname),basename)\n",
    "a"
   ]
  },
  {
   "cell_type": "code",
   "execution_count": null,
   "id": "0bf1bbf9",
   "metadata": {},
   "outputs": [],
   "source": [
    "import gahuu\n",
    "style_image = gahuu.convert_img(a)"
   ]
  },
  {
   "cell_type": "code",
   "execution_count": null,
   "id": "00539d9b",
   "metadata": {},
   "outputs": [],
   "source": [
    "style_image"
   ]
  },
  {
   "cell_type": "code",
   "execution_count": null,
   "id": "a922044c",
   "metadata": {},
   "outputs": [],
   "source": [
    "import functools\n",
    "import os\n",
    "\n",
    "from matplotlib import gridspec\n",
    "import matplotlib.pylab as plt\n",
    "import numpy as np\n",
    "import tensorflow as tf\n",
    "import tensorflow_hub as hub\n",
    "from PIL import Image\n",
    "\n",
    "from tensorflow import keras\n",
    "\n",
    "#テンソル化\n",
    "def convert_img(file): \n",
    "    global h,w\n",
    "    image = tf.io.read_file(file)\n",
    "    image = tf.image.decode_jpeg(image, channels=3)\n",
    "\n",
    "    #4次元化にreshapeするためPIL化\n",
    "    pilImg_rgb = Image.fromarray(np.uint8(image))\n",
    "    pilImg_rgb = np.array(pilImg_rgb, dtype='float32')\n",
    "    h = len(image)\n",
    "    w = len(image[0])\n",
    "    a = pilImg_rgb.reshape(1, h, w, 3)\n",
    "\n",
    "    #画像の数値をrgb用からfloat用にする（255で割って0～1の間にする）\n",
    "    image = tf.convert_to_tensor(a/255.0)\n",
    "\n",
    "    #大き目の画像サイズ縮小（元画像の3分の１)\n",
    "    if h >= 1000 or w >= 1000:\n",
    "        h = int(h/3)\n",
    "        w = int(w/3)\n",
    "        image = tf.image.resize(image, [h, w])\n",
    "    return image\n",
    "\n",
    "#content_image = convert_img(\"bike2-sen.jpg\")\n",
    "#style_image = convert_img(\"dragonball.jpg\")\n",
    "\n",
    "def digit(c,s):\n",
    "    style_image = tf.nn.avg_pool(s, ksize=[3,3], strides=[1,1], padding='SAME')\n",
    "    hub_module = keras.models.load_model(\"model\")\n",
    "\n",
    "    outputs = hub_module(tf.constant(c), tf.constant(style_image))\n",
    "    stylized_image = outputs[0]\n",
    "    return stylized_image"
   ]
  },
  {
   "cell_type": "code",
   "execution_count": null,
   "id": "2272dbc8",
   "metadata": {},
   "outputs": [],
   "source": [
    "style_image = convert_img(\"input_style/bike2-sen.jpg\")"
   ]
  },
  {
   "cell_type": "code",
   "execution_count": null,
   "id": "36574c88",
   "metadata": {},
   "outputs": [],
   "source": [
    "style_image"
   ]
  },
  {
   "cell_type": "code",
   "execution_count": null,
   "id": "ae926ddd",
   "metadata": {},
   "outputs": [],
   "source": []
  }
 ],
 "metadata": {
  "kernelspec": {
   "display_name": "Python 3",
   "language": "python",
   "name": "python3"
  },
  "language_info": {
   "codemirror_mode": {
    "name": "ipython",
    "version": 3
   },
   "file_extension": ".py",
   "mimetype": "text/x-python",
   "name": "python",
   "nbconvert_exporter": "python",
   "pygments_lexer": "ipython3",
   "version": "3.7.10"
  }
 },
 "nbformat": 4,
 "nbformat_minor": 5
}
