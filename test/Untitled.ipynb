{
 "cells": [
  {
   "cell_type": "code",
   "execution_count": null,
   "id": "7134f311",
   "metadata": {},
   "outputs": [],
   "source": [
    "from PIL import Image\n",
    "import numpy as np\n",
    "import tensorflow as tf\n",
    "\n",
    "image = tf.io.read_file(\"lena.jpg\")\n",
    "image = tf.image.decode_jpeg(image, channels=3)\n",
    "\n",
    "pilImg_rgb = Image.fromarray(np.uint8(image))\n",
    "pilImg_rgb = np.array(pilImg_rgb, dtype='float32') \n",
    "a = pilImg_rgb.reshape(1, len(image), len(image[0]), 3)\n",
    "h = len(image)/3\n",
    "#image = tf.convert_to_tensor(a/255.0)\n",
    "#image = tf.image.resize(image, [400, 640])\n",
    "#image\n",
    "type(len(image))"
   ]
  },
  {
   "cell_type": "code",
   "execution_count": null,
   "id": "7cb440e7",
   "metadata": {},
   "outputs": [],
   "source": [
    "Image"
   ]
  },
  {
   "cell_type": "code",
   "execution_count": null,
   "id": "e6518f3f",
   "metadata": {},
   "outputs": [],
   "source": [
    "import tkinter\n",
    "from PIL import Image, ImageTk\n",
    "# --- 基本的な表示準備 ----------------                                         \n",
    "window = tkinter.Tk()\n",
    "window.geometry(\"500x500\") # 画面サイズを1000 x 1000 とする                     \n",
    "window.title(\"Welcome to the Tkinter\")\n",
    "# 画像を指定                                                                    \n",
    "img = Image.open('dragonball.jpg')\n",
    "img = img.resize((500, 500))\n",
    "img = ImageTk.PhotoImage(img)\n",
    "\n",
    "# canvasサイズも画面サイズと同じにして描画                              \n",
    "canvas = tkinter.Canvas(width=500, height=500)\n",
    "canvas.place(x=0, y=0)\n",
    "# -------------------------------------                                         \n",
    "# キャンバスに画像を表示する                                                    \n",
    "canvas.create_image(0, 0, image=img, anchor=tkinter.NW)\n",
    "window.mainloop()"
   ]
  },
  {
   "cell_type": "code",
   "execution_count": 5,
   "id": "54370097",
   "metadata": {},
   "outputs": [],
   "source": [
    "import tkinter\n",
    "import tkinter.filedialog\n",
    "\n",
    "class Application(tkinter.Frame):\n",
    "    def __init__(self, master=None):\n",
    "        super().__init__(master)\n",
    "        self.master = master\n",
    "        self.master.title('tkinter dialog trial')\n",
    "        self.pack()\n",
    "        self.create_widgets()\n",
    "\n",
    "    def create_widgets(self):\n",
    "        self.dialog_button = tkinter.Button(self, text='File Open...', command=file_open, width=120)\n",
    "        self.dialog_button.pack(anchor=tkinter.NW)\n",
    "\n",
    "        self.text_1 = tkinter.StringVar()\n",
    "        self.type_label = tkinter.Label(self, textvariable=self.text_1)\n",
    "        self.type_label.pack(anchor=tkinter.W)\n",
    "        self.text_2 = tkinter.StringVar()\n",
    "        self.content_label = tkinter.Label(self, textvariable=self.text_2)\n",
    "        self.content_label.pack(anchor=tkinter.W)\n",
    "        self.text_3 = tkinter.StringVar()\n",
    "        self.len_label = tkinter.Label(self, textvariable=self.text_3)\n",
    "        self.len_label.pack(anchor=tkinter.W)\n",
    "\n",
    "def file_open():\n",
    "    ini_dir = './'\n",
    "    ret = tkinter.filedialog.askopenfilename(initialdir=ini_dir, )\n",
    "    app.text_1.set('Type : ' + str(type(ret)))\n",
    "    app.text_2.set('Content : ' + str(ret))\n",
    "    app.text_3.set('Length : ' + str(len(ret)))\n",
    "\n",
    "root = tkinter.Tk()\n",
    "app = Application(master=root)\n",
    "app.mainloop()"
   ]
  },
  {
   "cell_type": "code",
   "execution_count": null,
   "id": "a56c65e1",
   "metadata": {},
   "outputs": [],
   "source": []
  }
 ],
 "metadata": {
  "kernelspec": {
   "display_name": "Python 3",
   "language": "python",
   "name": "python3"
  },
  "language_info": {
   "codemirror_mode": {
    "name": "ipython",
    "version": 3
   },
   "file_extension": ".py",
   "mimetype": "text/x-python",
   "name": "python",
   "nbconvert_exporter": "python",
   "pygments_lexer": "ipython3",
   "version": "3.7.10"
  }
 },
 "nbformat": 4,
 "nbformat_minor": 5
}
